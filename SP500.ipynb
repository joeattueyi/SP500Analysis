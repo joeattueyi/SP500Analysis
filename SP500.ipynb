{
 "cells": [
  {
   "cell_type": "markdown",
   "metadata": {},
   "source": [
    "# Drawdowns: Magnitudes and Frequencies\n",
    "\n",
    "This will be an analysis of the market drawdowns from an empirical perspective, using daily data for the past 24 years.\n",
    "\n",
    "I will be focusing on the daily returns of the S&P500 index from January 1993 onwards.\n",
    "\n",
    "The focus on drawdowns is because its is a far more visceral measure of risk than the standard deviation, it's the negative outcome that the investor fundamentally cares about.\n"
   ]
  },
  {
   "cell_type": "code",
   "execution_count": 67,
   "metadata": {
    "collapsed": true
   },
   "outputs": [],
   "source": [
    "%matplotlib inline\n",
    "import pandas as pd\n",
    "import numpy as np\n",
    "import matplotlib.pyplot as plt\n",
    "import math"
   ]
  },
  {
   "cell_type": "code",
   "execution_count": null,
   "metadata": {
    "collapsed": true
   },
   "outputs": [],
   "source": [
    "df = pd.read_csv(\"SP500.csv\")"
   ]
  },
  {
   "cell_type": "markdown",
   "metadata": {},
   "source": [
    "Taking a peek, we find the following "
   ]
  },
  {
   "cell_type": "code",
   "execution_count": 3,
   "metadata": {
    "collapsed": false
   },
   "outputs": [
    {
     "data": {
      "text/html": [
       "<div>\n",
       "<table border=\"1\" class=\"dataframe\">\n",
       "  <thead>\n",
       "    <tr style=\"text-align: right;\">\n",
       "      <th></th>\n",
       "      <th>Date</th>\n",
       "      <th>Open</th>\n",
       "      <th>High</th>\n",
       "      <th>Low</th>\n",
       "      <th>Close</th>\n",
       "      <th>Adj Close</th>\n",
       "      <th>Volume</th>\n",
       "    </tr>\n",
       "  </thead>\n",
       "  <tbody>\n",
       "    <tr>\n",
       "      <th>0</th>\n",
       "      <td>1993-01-29</td>\n",
       "      <td>43.9687</td>\n",
       "      <td>43.9687</td>\n",
       "      <td>43.7500</td>\n",
       "      <td>43.9375</td>\n",
       "      <td>27.607176</td>\n",
       "      <td>1003200</td>\n",
       "    </tr>\n",
       "    <tr>\n",
       "      <th>1</th>\n",
       "      <td>1993-02-01</td>\n",
       "      <td>43.9687</td>\n",
       "      <td>44.2500</td>\n",
       "      <td>43.9687</td>\n",
       "      <td>44.2500</td>\n",
       "      <td>27.803539</td>\n",
       "      <td>480500</td>\n",
       "    </tr>\n",
       "    <tr>\n",
       "      <th>2</th>\n",
       "      <td>1993-02-02</td>\n",
       "      <td>44.2187</td>\n",
       "      <td>44.3750</td>\n",
       "      <td>44.1250</td>\n",
       "      <td>44.3437</td>\n",
       "      <td>27.862408</td>\n",
       "      <td>201300</td>\n",
       "    </tr>\n",
       "    <tr>\n",
       "      <th>3</th>\n",
       "      <td>1993-02-03</td>\n",
       "      <td>44.4062</td>\n",
       "      <td>44.8437</td>\n",
       "      <td>44.3750</td>\n",
       "      <td>44.8125</td>\n",
       "      <td>28.156963</td>\n",
       "      <td>529400</td>\n",
       "    </tr>\n",
       "    <tr>\n",
       "      <th>4</th>\n",
       "      <td>1993-02-04</td>\n",
       "      <td>44.9687</td>\n",
       "      <td>45.0937</td>\n",
       "      <td>44.4687</td>\n",
       "      <td>45.0000</td>\n",
       "      <td>28.274775</td>\n",
       "      <td>531500</td>\n",
       "    </tr>\n",
       "  </tbody>\n",
       "</table>\n",
       "</div>"
      ],
      "text/plain": [
       "         Date     Open     High      Low    Close  Adj Close   Volume\n",
       "0  1993-01-29  43.9687  43.9687  43.7500  43.9375  27.607176  1003200\n",
       "1  1993-02-01  43.9687  44.2500  43.9687  44.2500  27.803539   480500\n",
       "2  1993-02-02  44.2187  44.3750  44.1250  44.3437  27.862408   201300\n",
       "3  1993-02-03  44.4062  44.8437  44.3750  44.8125  28.156963   529400\n",
       "4  1993-02-04  44.9687  45.0937  44.4687  45.0000  28.274775   531500"
      ]
     },
     "execution_count": 3,
     "metadata": {},
     "output_type": "execute_result"
    }
   ],
   "source": [
    "df.head()\n"
   ]
  },
  {
   "cell_type": "markdown",
   "metadata": {},
   "source": [
    "Get log returns."
   ]
  },
  {
   "cell_type": "code",
   "execution_count": 7,
   "metadata": {
    "collapsed": false
   },
   "outputs": [
    {
     "name": "stderr",
     "output_type": "stream",
     "text": [
      "/usr/local/lib/python2.7/site-packages/ipykernel/__main__.py:2: SettingWithCopyWarning: \n",
      "A value is trying to be set on a copy of a slice from a DataFrame\n",
      "\n",
      "See the caveats in the documentation: http://pandas.pydata.org/pandas-docs/stable/indexing.html#indexing-view-versus-copy\n",
      "  from ipykernel import kernelapp as app\n"
     ]
    }
   ],
   "source": [
    "df[\"log_returns\"] = np.log(df[\"Adj Close\"]).diff()\n",
    "df[\"log_returns\"][0] = 0"
   ]
  },
  {
   "cell_type": "code",
   "execution_count": 8,
   "metadata": {
    "collapsed": false
   },
   "outputs": [
    {
     "data": {
      "text/html": [
       "<div>\n",
       "<table border=\"1\" class=\"dataframe\">\n",
       "  <thead>\n",
       "    <tr style=\"text-align: right;\">\n",
       "      <th></th>\n",
       "      <th>Date</th>\n",
       "      <th>Open</th>\n",
       "      <th>High</th>\n",
       "      <th>Low</th>\n",
       "      <th>Close</th>\n",
       "      <th>Adj Close</th>\n",
       "      <th>Volume</th>\n",
       "      <th>log_returns</th>\n",
       "    </tr>\n",
       "  </thead>\n",
       "  <tbody>\n",
       "    <tr>\n",
       "      <th>0</th>\n",
       "      <td>1993-01-29</td>\n",
       "      <td>43.9687</td>\n",
       "      <td>43.9687</td>\n",
       "      <td>43.7500</td>\n",
       "      <td>43.9375</td>\n",
       "      <td>27.607176</td>\n",
       "      <td>1003200</td>\n",
       "      <td>0.000000</td>\n",
       "    </tr>\n",
       "    <tr>\n",
       "      <th>1</th>\n",
       "      <td>1993-02-01</td>\n",
       "      <td>43.9687</td>\n",
       "      <td>44.2500</td>\n",
       "      <td>43.9687</td>\n",
       "      <td>44.2500</td>\n",
       "      <td>27.803539</td>\n",
       "      <td>480500</td>\n",
       "      <td>0.007088</td>\n",
       "    </tr>\n",
       "    <tr>\n",
       "      <th>2</th>\n",
       "      <td>1993-02-02</td>\n",
       "      <td>44.2187</td>\n",
       "      <td>44.3750</td>\n",
       "      <td>44.1250</td>\n",
       "      <td>44.3437</td>\n",
       "      <td>27.862408</td>\n",
       "      <td>201300</td>\n",
       "      <td>0.002115</td>\n",
       "    </tr>\n",
       "    <tr>\n",
       "      <th>3</th>\n",
       "      <td>1993-02-03</td>\n",
       "      <td>44.4062</td>\n",
       "      <td>44.8437</td>\n",
       "      <td>44.3750</td>\n",
       "      <td>44.8125</td>\n",
       "      <td>28.156963</td>\n",
       "      <td>529400</td>\n",
       "      <td>0.010516</td>\n",
       "    </tr>\n",
       "    <tr>\n",
       "      <th>4</th>\n",
       "      <td>1993-02-04</td>\n",
       "      <td>44.9687</td>\n",
       "      <td>45.0937</td>\n",
       "      <td>44.4687</td>\n",
       "      <td>45.0000</td>\n",
       "      <td>28.274775</td>\n",
       "      <td>531500</td>\n",
       "      <td>0.004175</td>\n",
       "    </tr>\n",
       "  </tbody>\n",
       "</table>\n",
       "</div>"
      ],
      "text/plain": [
       "         Date     Open     High      Low    Close  Adj Close   Volume  \\\n",
       "0  1993-01-29  43.9687  43.9687  43.7500  43.9375  27.607176  1003200   \n",
       "1  1993-02-01  43.9687  44.2500  43.9687  44.2500  27.803539   480500   \n",
       "2  1993-02-02  44.2187  44.3750  44.1250  44.3437  27.862408   201300   \n",
       "3  1993-02-03  44.4062  44.8437  44.3750  44.8125  28.156963   529400   \n",
       "4  1993-02-04  44.9687  45.0937  44.4687  45.0000  28.274775   531500   \n",
       "\n",
       "   log_returns  \n",
       "0     0.000000  \n",
       "1     0.007088  \n",
       "2     0.002115  \n",
       "3     0.010516  \n",
       "4     0.004175  "
      ]
     },
     "execution_count": 8,
     "metadata": {},
     "output_type": "execute_result"
    }
   ],
   "source": [
    "df.head()"
   ]
  },
  {
   "cell_type": "markdown",
   "metadata": {},
   "source": [
    "Now we can define drawdown"
   ]
  },
  {
   "cell_type": "code",
   "execution_count": 9,
   "metadata": {
    "collapsed": true
   },
   "outputs": [],
   "source": [
    "def drawdown(returns):\n",
    "    out = []\n",
    "    cum_returns = [0]\n",
    "    for i in range(len(returns)):\n",
    "        cum_returns.append(cum_returns[-1] + returns[i])\n",
    "        out.append(max(cum_returns)-cum_returns[-1])\n",
    "    return out\n"
   ]
  },
  {
   "cell_type": "code",
   "execution_count": 45,
   "metadata": {
    "collapsed": true
   },
   "outputs": [],
   "source": [
    "def max_drawdown(drawdowns):\n",
    "    out = []\n",
    "    for i in range(len(drawdowns)+1):\n",
    "        out.append(max(drawdowns[:i+1]))\n",
    "    return out[:-1]\n"
   ]
  },
  {
   "cell_type": "markdown",
   "metadata": {},
   "source": [
    "Lets try it out with some fake data"
   ]
  },
  {
   "cell_type": "code",
   "execution_count": 87,
   "metadata": {
    "collapsed": false
   },
   "outputs": [
    {
     "name": "stdout",
     "output_type": "stream",
     "text": [
      "[0.0, 0.0, 0.1, 0.1]\n",
      "[0.0, 0.0, 0.1, 0.098]\n"
     ]
    }
   ],
   "source": [
    "print(max_drawdown(drawdown([0.05, 0.001, -0.10, 0.002])))\n",
    "print(drawdown([0.05, 0.001, -0.10, 0.002]))"
   ]
  },
  {
   "cell_type": "markdown",
   "metadata": {},
   "source": [
    "We can get now get drawdown magnitudes from our returns data"
   ]
  },
  {
   "cell_type": "code",
   "execution_count": 48,
   "metadata": {
    "collapsed": true
   },
   "outputs": [],
   "source": [
    "df[\"drawdown\"] = drawdown(df[\"log_returns\"])\n",
    "df[\"maxdrawdown\"] = max_drawdown(df[\"drawdown\"])"
   ]
  },
  {
   "cell_type": "code",
   "execution_count": 49,
   "metadata": {
    "collapsed": false
   },
   "outputs": [
    {
     "data": {
      "text/html": [
       "<div>\n",
       "<table border=\"1\" class=\"dataframe\">\n",
       "  <thead>\n",
       "    <tr style=\"text-align: right;\">\n",
       "      <th></th>\n",
       "      <th>Date</th>\n",
       "      <th>Open</th>\n",
       "      <th>High</th>\n",
       "      <th>Low</th>\n",
       "      <th>Close</th>\n",
       "      <th>Adj Close</th>\n",
       "      <th>Volume</th>\n",
       "      <th>log_returns</th>\n",
       "      <th>drawdown</th>\n",
       "      <th>maxdrawdown</th>\n",
       "    </tr>\n",
       "  </thead>\n",
       "  <tbody>\n",
       "    <tr>\n",
       "      <th>0</th>\n",
       "      <td>1993-01-29</td>\n",
       "      <td>43.9687</td>\n",
       "      <td>43.9687</td>\n",
       "      <td>43.7500</td>\n",
       "      <td>43.9375</td>\n",
       "      <td>27.607176</td>\n",
       "      <td>1003200</td>\n",
       "      <td>0.000000</td>\n",
       "      <td>0.0</td>\n",
       "      <td>0.0</td>\n",
       "    </tr>\n",
       "    <tr>\n",
       "      <th>1</th>\n",
       "      <td>1993-02-01</td>\n",
       "      <td>43.9687</td>\n",
       "      <td>44.2500</td>\n",
       "      <td>43.9687</td>\n",
       "      <td>44.2500</td>\n",
       "      <td>27.803539</td>\n",
       "      <td>480500</td>\n",
       "      <td>0.007088</td>\n",
       "      <td>0.0</td>\n",
       "      <td>0.0</td>\n",
       "    </tr>\n",
       "    <tr>\n",
       "      <th>2</th>\n",
       "      <td>1993-02-02</td>\n",
       "      <td>44.2187</td>\n",
       "      <td>44.3750</td>\n",
       "      <td>44.1250</td>\n",
       "      <td>44.3437</td>\n",
       "      <td>27.862408</td>\n",
       "      <td>201300</td>\n",
       "      <td>0.002115</td>\n",
       "      <td>0.0</td>\n",
       "      <td>0.0</td>\n",
       "    </tr>\n",
       "    <tr>\n",
       "      <th>3</th>\n",
       "      <td>1993-02-03</td>\n",
       "      <td>44.4062</td>\n",
       "      <td>44.8437</td>\n",
       "      <td>44.3750</td>\n",
       "      <td>44.8125</td>\n",
       "      <td>28.156963</td>\n",
       "      <td>529400</td>\n",
       "      <td>0.010516</td>\n",
       "      <td>0.0</td>\n",
       "      <td>0.0</td>\n",
       "    </tr>\n",
       "    <tr>\n",
       "      <th>4</th>\n",
       "      <td>1993-02-04</td>\n",
       "      <td>44.9687</td>\n",
       "      <td>45.0937</td>\n",
       "      <td>44.4687</td>\n",
       "      <td>45.0000</td>\n",
       "      <td>28.274775</td>\n",
       "      <td>531500</td>\n",
       "      <td>0.004175</td>\n",
       "      <td>0.0</td>\n",
       "      <td>0.0</td>\n",
       "    </tr>\n",
       "  </tbody>\n",
       "</table>\n",
       "</div>"
      ],
      "text/plain": [
       "         Date     Open     High      Low    Close  Adj Close   Volume  \\\n",
       "0  1993-01-29  43.9687  43.9687  43.7500  43.9375  27.607176  1003200   \n",
       "1  1993-02-01  43.9687  44.2500  43.9687  44.2500  27.803539   480500   \n",
       "2  1993-02-02  44.2187  44.3750  44.1250  44.3437  27.862408   201300   \n",
       "3  1993-02-03  44.4062  44.8437  44.3750  44.8125  28.156963   529400   \n",
       "4  1993-02-04  44.9687  45.0937  44.4687  45.0000  28.274775   531500   \n",
       "\n",
       "   log_returns  drawdown  maxdrawdown  \n",
       "0     0.000000       0.0          0.0  \n",
       "1     0.007088       0.0          0.0  \n",
       "2     0.002115       0.0          0.0  \n",
       "3     0.010516       0.0          0.0  \n",
       "4     0.004175       0.0          0.0  "
      ]
     },
     "execution_count": 49,
     "metadata": {},
     "output_type": "execute_result"
    }
   ],
   "source": [
    "df.head()"
   ]
  },
  {
   "cell_type": "markdown",
   "metadata": {},
   "source": [
    "Lets have a look at our data"
   ]
  },
  {
   "cell_type": "code",
   "execution_count": 92,
   "metadata": {
    "collapsed": false
   },
   "outputs": [
    {
     "data": {
      "image/png": "[encoded data removed]",
      "text/plain": [
       "<matplotlib.figure.Figure at 0x106bde510>"
      ]
     },
     "metadata": {},
     "output_type": "display_data"
    }
   ],
   "source": [
    "fig, ax = plt.subplots(3)\n",
    "ax[0].hist(df[\"log_returns\"], bins=\"auto\", normed=True)\n",
    "ax[0].set_title(\"Returns\")\n",
    "ax[1].hist(df[\"drawdown\"], bins=\"auto\", normed=True)\n",
    "ax[1].set_title(\"Drawdown\")\n",
    "ax[2].hist(df[\"maxdrawdown\"], bins=\"auto\", normed=True)\n",
    "ax[2].set_title(\"Maximum Drawdown\")\n",
    "plt.tight_layout(pad=0.4, w_pad=0.5, h_pad=1.0)\n",
    "plt.show()"
   ]
  },
  {
   "cell_type": "code",
   "execution_count": 55,
   "metadata": {
    "collapsed": true
   },
   "outputs": [],
   "source": [
    "def print_moments(data):\n",
    "    print(\"Mean: {}\".format(data.mean()))\n",
    "    print(\"Variance: {}\".format(data.var()))\n",
    "    print(\"Skewness: {}\".format(data.skew()))\n",
    "    print(\"Kurtosis: {}\".format(data.kurt()))\n",
    "    "
   ]
  },
  {
   "cell_type": "code",
   "execution_count": 56,
   "metadata": {
    "collapsed": false
   },
   "outputs": [
    {
     "name": "stdout",
     "output_type": "stream",
     "text": [
      "Mean: 0.000361076100698\n",
      "Variance: 0.000134123754915\n",
      "Skewness: -0.123399178971\n",
      "Kurtosis: 10.4799642916\n"
     ]
    }
   ],
   "source": [
    "print_moments(df[\"log_returns\"])"
   ]
  },
  {
   "cell_type": "code",
   "execution_count": 57,
   "metadata": {
    "collapsed": false
   },
   "outputs": [
    {
     "name": "stdout",
     "output_type": "stream",
     "text": [
      "Mean: 0.121357328453\n",
      "Variance: 0.0237807139796\n",
      "Skewness: 1.52946108724\n",
      "Kurtosis: 1.67269313296\n"
     ]
    }
   ],
   "source": [
    "print_moments(df[\"drawdown\"])"
   ]
  },
  {
   "cell_type": "code",
   "execution_count": 58,
   "metadata": {
    "collapsed": false
   },
   "outputs": [
    {
     "name": "stdout",
     "output_type": "stream",
     "text": [
      "Mean: 0.517234819046\n",
      "Variance: 0.0858882738314\n",
      "Skewness: -0.499654421501\n",
      "Kurtosis: -1.46690984604\n"
     ]
    }
   ],
   "source": [
    "print_moments(df[\"maxdrawdown\"])"
   ]
  },
  {
   "cell_type": "markdown",
   "metadata": {},
   "source": [
    "Now plotting as timeseries, several variables of interest"
   ]
  },
  {
   "cell_type": "code",
   "execution_count": 64,
   "metadata": {
    "collapsed": false
   },
   "outputs": [
    {
     "data": {
      "text/plain": [
       "<matplotlib.axes._subplots.AxesSubplot at 0x106eeae50>"
      ]
     },
     "execution_count": 64,
     "metadata": {},
     "output_type": "execute_result"
    },
    {
     "data": {
      "image/png": "[encoded data removed]",
      "text/plain": [
       "<matplotlib.figure.Figure at 0x107966750>"
      ]
     },
     "metadata": {},
     "output_type": "display_data"
    }
   ],
   "source": [
    "df.plot(x='Date', y='maxdrawdown')"
   ]
  },
  {
   "cell_type": "code",
   "execution_count": 65,
   "metadata": {
    "collapsed": false
   },
   "outputs": [
    {
     "data": {
      "text/plain": [
       "<matplotlib.axes._subplots.AxesSubplot at 0x107c65f50>"
      ]
     },
     "execution_count": 65,
     "metadata": {},
     "output_type": "execute_result"
    },
    {
     "data": {
      "image/png": "[encoded data removed]",
      "text/plain": [
       "<matplotlib.figure.Figure at 0x106aca790>"
      ]
     },
     "metadata": {},
     "output_type": "display_data"
    }
   ],
   "source": [
    "df.plot(x='Date', y='log_returns')"
   ]
  },
  {
   "cell_type": "markdown",
   "metadata": {},
   "source": [
    "Here we can see that large drawdown spikes happen in 2001 and 2008, corresponding to the tech and the housing bubble"
   ]
  },
  {
   "cell_type": "code",
   "execution_count": 66,
   "metadata": {
    "collapsed": false,
    "scrolled": true
   },
   "outputs": [
    {
     "data": {
      "text/plain": [
       "<matplotlib.axes._subplots.AxesSubplot at 0x107c5cbd0>"
      ]
     },
     "execution_count": 66,
     "metadata": {},
     "output_type": "execute_result"
    },
    {
     "data": {
      "image/png": "[encoded data removed]",
      "text/plain": [
       "<matplotlib.figure.Figure at 0x107c619d0>"
      ]
     },
     "metadata": {},
     "output_type": "display_data"
    }
   ],
   "source": [
    "df.plot(x='Date', y='drawdown')"
   ]
  },
  {
   "cell_type": "markdown",
   "metadata": {},
   "source": [
    "Return multiple over the period"
   ]
  },
  {
   "cell_type": "code",
   "execution_count": 70,
   "metadata": {
    "collapsed": false
   },
   "outputs": [
    {
     "data": {
      "text/plain": [
       "9.575486948294436"
      ]
     },
     "execution_count": 70,
     "metadata": {},
     "output_type": "execute_result"
    }
   ],
   "source": [
    "math.pow(1 + df[\"log_returns\"].mean(), len(df[\"log_returns\"]))"
   ]
  },
  {
   "cell_type": "code",
   "execution_count": 74,
   "metadata": {
    "collapsed": false
   },
   "outputs": [
    {
     "data": {
      "text/plain": [
       "9.5793930896807407"
      ]
     },
     "execution_count": 74,
     "metadata": {},
     "output_type": "execute_result"
    }
   ],
   "source": [
    "df[\"Adj Close\"].iloc[-1]/df[\"Adj Close\"].iloc[0]"
   ]
  },
  {
   "cell_type": "markdown",
   "metadata": {},
   "source": [
    "Omniscient Return over the period"
   ]
  },
  {
   "cell_type": "code",
   "execution_count": 86,
   "metadata": {
    "collapsed": false
   },
   "outputs": [
    {
     "name": "stdout",
     "output_type": "stream",
     "text": [
      "0.00775197969782\n"
     ]
    },
    {
     "data": {
      "text/plain": [
       "9.70966352989536e+20"
      ]
     },
     "execution_count": 86,
     "metadata": {},
     "output_type": "execute_result"
    }
   ],
   "source": [
    "\n",
    "df[\"abs\"] = df[\"log_returns\"].map(math.fabs)\n",
    "print(df[\"abs\"].mean())\n",
    "math.pow(1+ df[\"abs\"].mean(), len(df[\"abs\"]))\n"
   ]
  },
  {
   "cell_type": "markdown",
   "metadata": {},
   "source": [
    "A buy and hold position, yields a 9.5X multiple over the 25 year period.\n",
    "\n",
    "While an omniscient market timer who is long before every up day\n",
    "and short before ever down day yields a \n",
    "9.7*10^20  multiple over the 25 year period.\n",
    "\n"
   ]
  },
  {
   "cell_type": "code",
   "execution_count": null,
   "metadata": {
    "collapsed": true
   },
   "outputs": [],
   "source": []
  }
 ],
 "metadata": {
  "kernelspec": {
   "display_name": "Python 2",
   "language": "python",
   "name": "python2"
  },
  "language_info": {
   "codemirror_mode": {
    "name": "ipython",
    "version": 2
   },
   "file_extension": ".py",
   "mimetype": "text/x-python",
   "name": "python",
   "nbconvert_exporter": "python",
   "pygments_lexer": "ipython2",
   "version": "2.7.13"
  }
 },
 "nbformat": 4,
 "nbformat_minor": 2
}
